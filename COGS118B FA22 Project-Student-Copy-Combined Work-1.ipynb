{
 "cells": [
  {
   "cell_type": "markdown",
   "id": "61ffea74",
   "metadata": {},
   "source": [
    "# MNIST Dataset (First Part of Project)"
   ]
  },
  {
   "cell_type": "code",
   "execution_count": 1,
   "id": "4bc6a495",
   "metadata": {},
   "outputs": [
    {
     "name": "stdout",
     "output_type": "stream",
     "text": [
      "Defaulting to user installation because normal site-packages is not writeable\n",
      "Requirement already satisfied: keras==2.6 in /home/solivasb/.local/lib/python3.9/site-packages (2.6.0)\n",
      "Note: you may need to restart the kernel to use updated packages.\n"
     ]
    }
   ],
   "source": [
    "pip install keras==2.6"
   ]
  },
  {
   "cell_type": "code",
   "execution_count": 2,
   "id": "77ed910f",
   "metadata": {
    "id": "77ed910f"
   },
   "outputs": [],
   "source": [
    "import numpy as np \n",
    "import tensorflow\n",
    "from tensorflow.keras.datasets import mnist\n",
    "import matplotlib.pyplot as plt\n",
    "from tqdm import tqdm"
   ]
  },
  {
   "cell_type": "code",
   "execution_count": 3,
   "id": "38a09a75",
   "metadata": {
    "colab": {
     "base_uri": "https://localhost:8080/"
    },
    "id": "38a09a75",
    "outputId": "d5d5917a-4e14-4270-82f5-65655cdd8ea3"
   },
   "outputs": [],
   "source": [
    "(train_set, train_label), (test_set, test_label) = mnist.load_data()\n",
    "train_set, train_label = train_set[:20000], train_label[:20000]"
   ]
  },
  {
   "cell_type": "code",
   "execution_count": 4,
   "id": "928733ac",
   "metadata": {
    "colab": {
     "base_uri": "https://localhost:8080/"
    },
    "id": "928733ac",
    "outputId": "2354d61a-fc8f-4774-ce63-96446eca6fda"
   },
   "outputs": [
    {
     "data": {
      "text/plain": [
       "(20000, 28, 28)"
      ]
     },
     "execution_count": 4,
     "metadata": {},
     "output_type": "execute_result"
    }
   ],
   "source": [
    "train_set.shape"
   ]
  },
  {
   "cell_type": "code",
   "execution_count": 5,
   "id": "da43a200",
   "metadata": {
    "colab": {
     "base_uri": "https://localhost:8080/",
     "height": 282
    },
    "id": "da43a200",
    "outputId": "ee752d6d-59cb-49bd-ba9c-a6d5b1e95a44"
   },
   "outputs": [
    {
     "data": {
      "text/plain": [
       "<matplotlib.image.AxesImage at 0x7f88705f13d0>"
      ]
     },
     "execution_count": 5,
     "metadata": {},
     "output_type": "execute_result"
    },
    {
     "data": {
      "image/png": "[encoded data removed]",
      "text/plain": [
       "<Figure size 432x288 with 1 Axes>"
      ]
     },
     "metadata": {
      "needs_background": "light"
     },
     "output_type": "display_data"
    }
   ],
   "source": [
    "plt.imshow(train_set[5][:,:], cmap = plt.cm.binary)"
   ]
  },
  {
   "cell_type": "code",
   "execution_count": 6,
   "id": "3bf2465f",
   "metadata": {
    "id": "3bf2465f"
   },
   "outputs": [],
   "source": [
    "#Reshape the images as a 784d vector\n",
    "train_set = train_set.reshape(20000,-1)/255"
   ]
  },
  {
   "cell_type": "code",
   "execution_count": 7,
   "id": "9778ae14",
   "metadata": {
    "colab": {
     "base_uri": "https://localhost:8080/"
    },
    "id": "9778ae14",
    "outputId": "18ba8db7-83df-439f-e43d-c99095651d74"
   },
   "outputs": [],
   "source": [
    "#Binarising the data for use in Bernoulli \n",
    "train_set[train_set < 0.5] = 0\n",
    "train_set[train_set > 0.5] = 1 "
   ]
  },
  {
   "cell_type": "markdown",
   "id": "cf80ce5b",
   "metadata": {
    "id": "cf80ce5b"
   },
   "source": [
    "# Section 1. Implementing a Multi Dimensional Bernoulli random variable"
   ]
  },
  {
   "cell_type": "markdown",
   "id": "98ec387d",
   "metadata": {
    "id": "98ec387d"
   },
   "source": [
    "Approach here is to treat each image as a vector of dimension 784. Since we normalised the image, each pixel in the image will be in the range [0,1]"
   ]
  },
  {
   "cell_type": "markdown",
   "id": "a325e825",
   "metadata": {
    "id": "a325e825"
   },
   "source": [
    "Assume that for a given image vector $X_i$, it has pixels $$X_i = [x_{i1}, x_{i2}, x_{i3}, .... , x_{id}]$$Our bernoulli random variable follows the distribution $$p(x_j | \\theta_j) = \\theta_j^{x_j} (1 - \\theta_j)^{1 - x_j}$$So for each pixel belonging to $X_i$, it follows the above distribution. The main assumption again that we follow is that the pixels in a given image are independent of each other. So by the rule of independence, we have $$\\begin{equation}\n",
    "p(X_i | \\theta) = \\Pi_{j=1}^d p(x_{ij} | \\theta_j)\n",
    "\\end{equation}$$\n",
    "\n"
   ]
  },
  {
   "cell_type": "markdown",
   "id": "3084bda5",
   "metadata": {
    "id": "3084bda5"
   },
   "source": [
    "Now that we know the probability distribution for a single image, we compute the total data likelihood which is the product of the above distribution for each image i.e. $$\\begin{equation} p(D| \\theta) = \\Pi_{i = 1}^N p(X_i | \\theta) \\end{equation}$$\n",
    "So we have $$\\begin{equation} p(D | \\theta) = \\Pi_{i = 1}^N \\Pi_{j = 1}^d \\theta^{x_{ij}} (1 - \\theta)^{1 - x_{ij}} \\end{equation} $$\n",
    "\n",
    "Now you can take the log likelihood of the data and differentiate w.r.t $\\theta$ to get the MLE estimate of the bernoulli random variable for the mnist dataset. After differentiation we get $$\\begin{equation} \\theta_j^{MLE} = \\frac{\\Sigma_{i = 1}^N x_{ij}}{N} \\end{equation}$$ which intuitively means that the $j^{th}$ component of $\\theta^{MLE}$ is simply the sum of the $j^{th}$ pixel value across all images. \n",
    "\n",
    "Therefore this says that if we want to say get the Bernoulli Model for the MNIST, we want the $\\theta$ to be the mean of each pixel across all images."
   ]
  },
  {
   "cell_type": "code",
   "execution_count": 8,
   "id": "bda9b97b",
   "metadata": {
    "id": "bda9b97b"
   },
   "outputs": [],
   "source": [
    "#Complete the code to get the MLE estimate of theta for mnist\n",
    "theta_MLE = train_set.sum(axis=0)/np.size(train_set)"
   ]
  },
  {
   "cell_type": "code",
   "execution_count": 9,
   "id": "407463d4",
   "metadata": {
    "colab": {
     "base_uri": "https://localhost:8080/",
     "height": 282
    },
    "id": "407463d4",
    "outputId": "237acea7-1219-4377-f300-fd4962f9e9ae"
   },
   "outputs": [
    {
     "data": {
      "text/plain": [
       "<matplotlib.image.AxesImage at 0x7f8870558cd0>"
      ]
     },
     "execution_count": 9,
     "metadata": {},
     "output_type": "execute_result"
    },
    {
     "data": {
      "image/png": "[encoded data removed]",
      "text/plain": [
       "<Figure size 432x288 with 1 Axes>"
      ]
     },
     "metadata": {
      "needs_background": "light"
     },
     "output_type": "display_data"
    }
   ],
   "source": [
    "#Visualisation of the MLE estimate\n",
    "theta_MLE = theta_MLE.reshape(28,28)*255\n",
    "plt.imshow(theta_MLE, cmap = plt.cm.binary)"
   ]
  },
  {
   "cell_type": "markdown",
   "id": "5ccdd168",
   "metadata": {
    "id": "5ccdd168"
   },
   "source": [
    "# Section 2. Implementing KMeans on MNIST to cluster data"
   ]
  },
  {
   "cell_type": "markdown",
   "id": "d6afc60f",
   "metadata": {
    "id": "d6afc60f"
   },
   "source": [
    "So we have studied KMeans as a very intuitive approach to clustering data. Suppose we want to categorize each image into a specific cluster. How do we do that ? "
   ]
  },
  {
   "cell_type": "markdown",
   "id": "45550b55",
   "metadata": {},
   "source": [
    "## One Example: Performing K-means using sklearn.cluster package"
   ]
  },
  {
   "cell_type": "code",
   "execution_count": 27,
   "id": "a058cb47",
   "metadata": {},
   "outputs": [
    {
     "data": {
      "text/plain": [
       "array([3, 7, 2, ..., 1, 1, 6], dtype=int32)"
      ]
     },
     "execution_count": 27,
     "metadata": {},
     "output_type": "execute_result"
    }
   ],
   "source": [
    "from sklearn.cluster import MiniBatchKMeans\n",
    "Kmeans = MiniBatchKMeans(n_clusters = 10)\n",
    "Kmeans.fit(train_set)\n",
    "\n",
    "nodtype_Kmeans = (Kmeans.labels_).tolist()\n",
    "Kmeans_cluster = np.array(nodtype_Kmeans)\n",
    "\n",
    "Kmeans.labels_"
   ]
  },
  {
   "cell_type": "code",
   "execution_count": 14,
   "id": "4734bec1",
   "metadata": {},
   "outputs": [],
   "source": [
    "def retrieve_info(cluster_labels,train_label):\n",
    "    reference_labels = {}\n",
    "    for i in range(len(np.unique(Kmeans.labels_))):\n",
    "        index = np.where(cluster_labels == i,1,0)\n",
    "        num = np.bincount(train_label[index==1]).argmax()\n",
    "        reference_labels[i] = num\n",
    "    return reference_labels\n",
    "\n",
    "reference_labels = retrieve_info(Kmeans.labels_,train_label)\n",
    "number_labels = np.random.rand(len(Kmeans.labels_))\n",
    "for i in range(len(Kmeans.labels_)):\n",
    "    number_labels[i] = reference_labels[Kmeans.labels_[i]]"
   ]
  },
  {
   "cell_type": "code",
   "execution_count": 15,
   "id": "97c1171f",
   "metadata": {},
   "outputs": [
    {
     "data": {
      "image/png": "[encoded data removed]",
      "text/plain": [
       "<Figure size 1080x648 with 10 Axes>"
      ]
     },
     "metadata": {
      "needs_background": "light"
     },
     "output_type": "display_data"
    }
   ],
   "source": [
    "# Visualization for central centroids\n",
    "centroids = Kmeans.cluster_centers_\n",
    "centroids.shape\n",
    "centroids = centroids.reshape(10,28,28)\n",
    "centroids = centroids * 9\n",
    "\n",
    "plt.figure(figsize = (15,9))\n",
    "bottom = 0.1\n",
    "for i in range(10):\n",
    "    plt.subplots_adjust(bottom)\n",
    "    plt.subplot(2,5,i+1)\n",
    "    plt.title('Number = {}'.format(reference_labels[i]),fontsize = 15)\n",
    "    plt.imshow(centroids[i])"
   ]
  },
  {
   "cell_type": "markdown",
   "id": "c58aa32c",
   "metadata": {},
   "source": [
    "## Second Example: Seperating Kmeans Components"
   ]
  },
  {
   "cell_type": "code",
   "execution_count": 34,
   "id": "49b4f95c",
   "metadata": {},
   "outputs": [],
   "source": [
    "def calcSqDistances(X, Kmus):\n",
    "    return ((-2 * X.dot(Kmus.T) + np.sum(np.multiply(Kmus,Kmus), axis=1).T).T + np.sum(np.multiply(X,X), axis=1)).T"
   ]
  },
  {
   "cell_type": "code",
   "execution_count": 35,
   "id": "fb016048",
   "metadata": {
    "id": "fb016048"
   },
   "outputs": [],
   "source": [
    "def determineRnk(sqDmat):\n",
    "    m = np.argmin(sqDmat, axis=1)\n",
    "    return np.eye(sqDmat.shape[1])[m]"
   ]
  },
  {
   "cell_type": "code",
   "execution_count": 36,
   "id": "9eaf8800",
   "metadata": {
    "id": "9eaf8800"
   },
   "outputs": [],
   "source": [
    "# Find the mean of data points in X that belong to a particular cluster. Rnk is a matrix with values pertaining to k clusters\n",
    "# (Ex. 0-9 for 10 clusters). \n",
    "def recalcMus(X, Rnk):\n",
    "    return (np.divide(X.T.dot(Rnk), np.sum(Rnk, axis=0))).T"
   ]
  },
  {
   "cell_type": "code",
   "execution_count": 42,
   "id": "ba815cfe",
   "metadata": {
    "id": "76f0e2ee"
   },
   "outputs": [],
   "source": [
    "def runKMeans(K):\n",
    "    X = train_set\n",
    "    N = np.shape(X)[0]\n",
    "    D = np.shape(X)[1]\n",
    "    Kmus = np.zeros((K, D))\n",
    "    rndinds = np.random.permutation(N)\n",
    "    Kmus = X[rndinds[:K]];\n",
    "    maxiters = 1000;\n",
    "\n",
    "    for iter in range(maxiters):\n",
    "        sqDmat = calcSqDistances(X, Kmus);\n",
    "        Rnk = determineRnk(sqDmat)\n",
    "        KmusOld = Kmus\n",
    "        plt.show()\n",
    "        Kmus = recalcMus(X, Rnk)\n",
    "        if sum(abs(KmusOld.flatten() - Kmus.flatten())) < 1e-6:\n",
    "            break\n",
    "            \n",
    "    return Kmus"
   ]
  },
  {
   "cell_type": "code",
   "execution_count": 43,
   "id": "4775eca3",
   "metadata": {
    "colab": {
     "base_uri": "https://localhost:8080/"
    },
    "id": "4775eca3",
    "outputId": "f9ee4042-e5e5-484e-ffdd-4599773dbfcd"
   },
   "outputs": [],
   "source": [
    "Kmus_10 = runKMeans(10)\n",
    "Kmus_20 = runKMeans(20)"
   ]
  },
  {
   "cell_type": "markdown",
   "id": "1249d8c3",
   "metadata": {
    "id": "1249d8c3"
   },
   "source": [
    "# We can see which cluster roughly represents which digit. "
   ]
  },
  {
   "cell_type": "code",
   "execution_count": 44,
   "id": "f655d04b",
   "metadata": {
    "colab": {
     "base_uri": "https://localhost:8080/",
     "height": 452
    },
    "id": "f655d04b",
    "outputId": "a2584e24-9679-45c5-d387-70ed896aabf2"
   },
   "outputs": [],
   "source": [
    "def get_cluster_plot(Kmus): \n",
    "    '''\n",
    "    : get a plot of what different clusters represent\n",
    "    : takes as input the cluster location matrix\n",
    "    '''\n",
    "    fig,axs = plt.subplots(2,5, figsize = (15,9))\n",
    "    for i in range(len(Kmus)):\n",
    "        cluster = Kmus[i].reshape(28,-1) * 255\n",
    "        axs[i//5][i%5].imshow(cluster, cmap = plt.cm.binary)\n",
    "        axs[i//5][i%5].set_title(f'Cluster {i + 1}')"
   ]
  },
  {
   "cell_type": "code",
   "execution_count": 45,
   "id": "e76051c2",
   "metadata": {},
   "outputs": [
    {
     "ename": "IndexError",
     "evalue": "index 2 is out of bounds for axis 0 with size 2",
     "output_type": "error",
     "traceback": [
      "\u001b[0;31m---------------------------------------------------------------------------\u001b[0m",
      "\u001b[0;31mIndexError\u001b[0m                                Traceback (most recent call last)",
      "\u001b[0;32m/tmp/ipykernel_407/3604955485.py\u001b[0m in \u001b[0;36m<module>\u001b[0;34m\u001b[0m\n\u001b[1;32m      1\u001b[0m \u001b[0mget_cluster_plot\u001b[0m\u001b[0;34m(\u001b[0m\u001b[0mKmus_10\u001b[0m\u001b[0;34m)\u001b[0m \u001b[0;31m#Get cluster representation for K = 10 clusters\u001b[0m\u001b[0;34m\u001b[0m\u001b[0;34m\u001b[0m\u001b[0m\n\u001b[0;32m----> 2\u001b[0;31m \u001b[0mget_cluster_plot\u001b[0m\u001b[0;34m(\u001b[0m\u001b[0mKmus_20\u001b[0m\u001b[0;34m)\u001b[0m \u001b[0;31m#Get cluster representation for K = 20 clusters\u001b[0m\u001b[0;34m\u001b[0m\u001b[0;34m\u001b[0m\u001b[0m\n\u001b[0m",
      "\u001b[0;32m/tmp/ipykernel_407/1352890846.py\u001b[0m in \u001b[0;36mget_cluster_plot\u001b[0;34m(Kmus)\u001b[0m\n\u001b[1;32m      8\u001b[0m     \u001b[0;32mfor\u001b[0m \u001b[0mi\u001b[0m \u001b[0;32min\u001b[0m \u001b[0mrange\u001b[0m\u001b[0;34m(\u001b[0m\u001b[0mlen\u001b[0m\u001b[0;34m(\u001b[0m\u001b[0mKmus\u001b[0m\u001b[0;34m)\u001b[0m\u001b[0;34m)\u001b[0m\u001b[0;34m:\u001b[0m\u001b[0;34m\u001b[0m\u001b[0;34m\u001b[0m\u001b[0m\n\u001b[1;32m      9\u001b[0m         \u001b[0mcluster\u001b[0m \u001b[0;34m=\u001b[0m \u001b[0mKmus\u001b[0m\u001b[0;34m[\u001b[0m\u001b[0mi\u001b[0m\u001b[0;34m]\u001b[0m\u001b[0;34m.\u001b[0m\u001b[0mreshape\u001b[0m\u001b[0;34m(\u001b[0m\u001b[0;36m28\u001b[0m\u001b[0;34m,\u001b[0m\u001b[0;34m-\u001b[0m\u001b[0;36m1\u001b[0m\u001b[0;34m)\u001b[0m \u001b[0;34m*\u001b[0m \u001b[0;36m255\u001b[0m\u001b[0;34m\u001b[0m\u001b[0;34m\u001b[0m\u001b[0m\n\u001b[0;32m---> 10\u001b[0;31m         \u001b[0maxs\u001b[0m\u001b[0;34m[\u001b[0m\u001b[0mi\u001b[0m\u001b[0;34m//\u001b[0m\u001b[0;36m5\u001b[0m\u001b[0;34m]\u001b[0m\u001b[0;34m[\u001b[0m\u001b[0mi\u001b[0m\u001b[0;34m%\u001b[0m\u001b[0;36m5\u001b[0m\u001b[0;34m]\u001b[0m\u001b[0;34m.\u001b[0m\u001b[0mimshow\u001b[0m\u001b[0;34m(\u001b[0m\u001b[0mcluster\u001b[0m\u001b[0;34m,\u001b[0m \u001b[0mcmap\u001b[0m \u001b[0;34m=\u001b[0m \u001b[0mplt\u001b[0m\u001b[0;34m.\u001b[0m\u001b[0mcm\u001b[0m\u001b[0;34m.\u001b[0m\u001b[0mbinary\u001b[0m\u001b[0;34m)\u001b[0m\u001b[0;34m\u001b[0m\u001b[0;34m\u001b[0m\u001b[0m\n\u001b[0m\u001b[1;32m     11\u001b[0m         \u001b[0maxs\u001b[0m\u001b[0;34m[\u001b[0m\u001b[0mi\u001b[0m\u001b[0;34m//\u001b[0m\u001b[0;36m5\u001b[0m\u001b[0;34m]\u001b[0m\u001b[0;34m[\u001b[0m\u001b[0mi\u001b[0m\u001b[0;34m%\u001b[0m\u001b[0;36m5\u001b[0m\u001b[0;34m]\u001b[0m\u001b[0;34m.\u001b[0m\u001b[0mset_title\u001b[0m\u001b[0;34m(\u001b[0m\u001b[0;34mf'Cluster {i + 1}'\u001b[0m\u001b[0;34m)\u001b[0m\u001b[0;34m\u001b[0m\u001b[0;34m\u001b[0m\u001b[0m\n",
      "\u001b[0;31mIndexError\u001b[0m: index 2 is out of bounds for axis 0 with size 2"
     ]
    },
    {
     "data": {
      "image/png": "[encoded data removed]",
      "text/plain": [
       "<Figure size 1080x648 with 10 Axes>"
      ]
     },
     "metadata": {
      "needs_background": "light"
     },
     "output_type": "display_data"
    },
    {
     "data": {
      "image/png": "[encoded data removed]",
      "text/plain": [
       "<Figure size 1080x648 with 10 Axes>"
      ]
     },
     "metadata": {
      "needs_background": "light"
     },
     "output_type": "display_data"
    }
   ],
   "source": [
    "get_cluster_plot(Kmus_10) #Get cluster representation for K = 10 clusters\n",
    "get_cluster_plot(Kmus_20) #Get cluster representation for K = 20 clusters"
   ]
  },
  {
   "cell_type": "markdown",
   "id": "bf061212",
   "metadata": {},
   "source": [
    "## Can you think of a way to get cluster accuracies and determine given a new image, which cluster it belongs to and hence which number it represents ? (BONUS)"
   ]
  },
  {
   "cell_type": "markdown",
   "id": "e455a16d",
   "metadata": {},
   "source": [
    "### Given the cluster outputs from KMeans, which cluster represents which digit. "
   ]
  },
  {
   "cell_type": "code",
   "execution_count": 46,
   "id": "be887b80",
   "metadata": {},
   "outputs": [],
   "source": [
    "def cluster_assignments(Kmus):\n",
    "    '''\n",
    "    : Given the locations of the clusters and the training data, assign which digit each cluster represents\n",
    "    '''\n",
    "    assert isinstance(Kmus, np.ndarray)\n",
    "    x_train = train_set\n",
    "    y_train = train_label\n",
    "    dist = calcSqDistances(x_train, Kmus)\n",
    "    responsibility = determineRnk(dist)\n",
    "    cluster_dict = dict()\n",
    "    for i in range(len(Kmus)): \n",
    "        '''\n",
    "        : Get the digits corresponding to each cluster\n",
    "        : For each cluster, count the number of times each digit in train set has a 1.\n",
    "        : Assign cluster the digit that has maximum number of 1's\n",
    "        '''\n",
    "        cluster_members = responsibility[:,i]\n",
    "        digits = y_train[cluster_members == 1]\n",
    "        cluster_digit = np.bincount(digits).argmax()\n",
    "        cluster_dict.update({i + 1: cluster_digit})\n",
    "    return cluster_dict"
   ]
  },
  {
   "cell_type": "markdown",
   "id": "03a45b11",
   "metadata": {},
   "source": [
    "### Given now the clusters and what digits these clusters represent, we want to find which cluster a new digit will belong to and hence what number it is. "
   ]
  },
  {
   "cell_type": "code",
   "execution_count": 48,
   "id": "d2034c5b",
   "metadata": {},
   "outputs": [],
   "source": [
    "# Implement\n",
    "def determine_cluster(x,Kmus):\n",
    "    dist = []\n",
    "    Kmus = cluster_assignments(Kmus)\n",
    "    for i in range(len(Kmus)):\n",
    "        point_distance = calcSqDistances(x, Kmus[i])\n",
    "        dist = dist.append(point_distance)\n",
    "        responsibility = determineRnk(dist)\n",
    "        if responsibility[i] == 1:\n",
    "            return i\n",
    "        break\n",
    "    '''\n",
    "    : Given a data point x and location of the clusters, find out which cluster data belongs to\n",
    "    '''\n",
    "    assert isinstance(x , np.ndarray) and isinstance(Kmus, np.ndarray) and x.shape[-1] == Kmus.shape[-1]\n",
    "    "
   ]
  },
  {
   "cell_type": "code",
   "execution_count": null,
   "id": "a59422b7",
   "metadata": {},
   "outputs": [],
   "source": [
    "# Implement\n",
    "def determine_cluster(x,Kmus):\n",
    "    \n",
    "    '''\n",
    "    : Given a data point x and location of the clusters, find out which cluster data belongs to\n",
    "    '''\n",
    "    assert isinstance(x , np.ndarray) and isinstance(Kmus, np.ndarray) and x.shape[-1] == Kmus.shape[-1]\n",
    "    \n",
    "    dist = calcSqDistances(x, Kmus)\n",
    "    cluster = np.argmin(dist)\n",
    "    \n",
    "        # Get the cluster assignments\n",
    "    cluster_dict = cluster_assignments(Kmus)\n",
    "\n",
    "        # Determine which cluster the new digit belongs to\n",
    "    cluster = determine_cluster(new_digit, Kmus)\n",
    "\n",
    "        # Get the digit that the cluster represents\n",
    "    digit = cluster_dict[cluster]\n",
    "\n",
    "    return digit\n",
    "    "
   ]
  },
  {
   "cell_type": "markdown",
   "id": "64de2758",
   "metadata": {},
   "source": [
    "### Now find out what is the accuracy of the KMeans algorithm i.e. how accurately it clusters images to the right digit. Report the accuracies for K = 10,20. "
   ]
  },
  {
   "cell_type": "code",
   "execution_count": null,
   "id": "48a19495",
   "metadata": {},
   "outputs": [],
   "source": [
    "# #Implement\n",
    "# def compute_accuracy(y):\n",
    "#     '''\n",
    "#     : Given the predicted labels for data points using KMeans, compare them with true labels\n",
    "#     '''\n",
    "    \n",
    "#     # Get the cluster assignments\n",
    "#     cluster_dict = cluster_assignments(Kmus)\n",
    "    \n",
    "#     # Determine the predicted labels for each data point\n",
    "#     pred_label = []\n",
    "#     for x in data:\n",
    "#         # Determine which cluster the data point belongs to\n",
    "#         cluster = determine_cluster(x, Kmus)\n",
    "        \n",
    "#         # Get the digit that the cluster represents\n",
    "#         pred_labels = cluster_dict[cluster]\n",
    "        \n",
    "#         # Add the predicted label to the list\n",
    "#         pred_label.append(pred_labels)\n",
    "    \n",
    "#     # Calculate the accuracy by comparing the predicted labels with the true labels\n",
    "#     accuracy = np.mean(pred_labels == y)\n",
    "    \n",
    "#     # Return the accuracy\n",
    "#     return accuracy\n",
    "    "
   ]
  },
  {
   "cell_type": "code",
   "execution_count": null,
   "id": "13eec1c1",
   "metadata": {},
   "outputs": [],
   "source": [
    "def compute_accuracy(y_pred, y_true):\n",
    "    # Convert y_pred and y_true to numpy arrays\n",
    "    y_pred = np.array(y_pred)\n",
    "    y_true = np.array(y_true)\n",
    "    \n",
    "    # Checking if arrays have the same length\n",
    "    assert y_pred.shape == y_true.shape\n",
    "    \n",
    "    # Counting # of matches\n",
    "    matches = np.sum(y_pred == y_true)\n",
    "    \n",
    "    # Compute accuracy\n",
    "    accuracy = matches / y_pred.shape[0]\n",
    "    return accuracy"
   ]
  },
  {
   "cell_type": "code",
   "execution_count": null,
   "id": "495a27d5",
   "metadata": {},
   "outputs": [],
   "source": [
    "y_pred = [1, 2, 3, 4, 5, 6]\n",
    "y_true = [2, 2, 3, 5, 5, 6]\n",
    "\n",
    "\n",
    "accuracy = compute_accuracy(y_pred, y_true)\n",
    "\n",
    "print(accuracy)"
   ]
  },
  {
   "cell_type": "code",
   "execution_count": 51,
   "id": "04ad4f3b",
   "metadata": {},
   "outputs": [],
   "source": [
    "# Implement\n",
    "def compute_accuracy(y_true, y_pred):\n",
    "    '''\n",
    "    : Given the predicted labels for data points using KMeans, compare them with true labels\n",
    "    '''"
   ]
  },
  {
   "cell_type": "markdown",
   "id": "1ba41009",
   "metadata": {},
   "source": [
    "### Implement code to find accuracy for K=10,20 clusters using the code cells above. Report the accuracy in a dictionary with key as the K value and accuracy result as the value of the dictionary."
   ]
  },
  {
   "cell_type": "markdown",
   "id": "ecRouqfTbByb",
   "metadata": {
    "id": "ecRouqfTbByb"
   },
   "source": [
    "# 3. Implementation of a Mixture of Bernoulli Distributions\n",
    "\n",
    "We have seen the performance of a single Bernoulli Distribution on the dataset. We saw it was not very good. On the other hand, using KMeans, we saw that same digits are having different cluster centers based on the writing style. Ex : In the image above, we can see that 0 is associated with clusters 5,7,13 and so on. So we hypothesise that a single digit cannot be entirely sampled from a single distribution and hence a mixture model maybe able to better explain the datas. "
   ]
  },
  {
   "cell_type": "markdown",
   "id": "7GTvHa9hbDWo",
   "metadata": {
    "id": "7GTvHa9hbDWo"
   },
   "source": [
    "Let us assume that our model is actually a Mixture of Multivariate Bernoulli random variable. For now, let us assume that the model consists of 10 multivariate bernoulli distributions. In this case, given a vector of pixel values, we don't know which cluster it belongs to. So let $z = \\{1,2,3,4,5,...,10\\}$ represent the cluster numbers. Each cluster is a multivariate bernoulli random variable and hence $$\\begin{equation} p(x | z = k) = \\prod_{j = 1}^d \\theta_{kj}^{x_j} (1 - \\theta_{kj})^{1 - x_j}  \\\\ ∀ k ∈ \\{1,2,...,10\\} \\end{equation} $$ where $p(z = k) = \\pi_k$\n",
    "Using this we write $$p(x,z) = p(x | z = k) p(z = k) = \\prod_{k = 1}^{10} (\\pi_k p(x | \\theta_k))^{z_k} $$ where $z_k = 1$ if the data point belongs to cluster k. This is the one hot encoding trick discussed in class. Now given a dataset $D = \\{x_1, x_2, x_3, ...., x_N\\}$, the likelihood can be written as $$p(X, Z) = \\prod_{i = 1}^N p(x_i, z) = \\prod_{i = 1}^N \\prod_{k = 1}^{10} (\\pi_k p(x_i | \\theta_k))^{z_{ik}}$$ This is the total data likelihood that we want to maximize in the presence of unknown/latent variables. Taking the log of this, we have $$log(p(X,Z)) = \\sum_{i = 1}^N \\sum_{k = 1}^{10} z_{ik} log(p(x_i | z = k) = \\sum_{i = 1}^N \\sum_{k = 1}^{10} z_{ik} (log(\\pi_k) + \\sum_{j = 1}^d (x_{ij}log(\\theta_{kj}) + (1 - x_{ij})log(1 - \\theta_{kj})))$$ This is the function that we would like to maximise and get the optimal values of $\\theta$ and $\\pi$. But since the latent variables are unknow, what we do is we take the expectation of this expression wrt observed data $X$ and some initial guess for the parameters that we want to find $\\theta$ and $\\pi$. The only expression above that depends on the latent variable is $z_{ik}$ and since this is a one hot encoding variable, we know that $$E[z_{ik} | X; \\theta^o, \\pi^o] = P(z_{ik} = k | X; \\theta^o, \\pi^o)$$ Applying Bayes Theorem, we have $$P(z_{ik} = k | X; \\theta^o, \\pi^o) = \\frac{P(X | z_{ik} = k;  \\theta^o, \\pi^o) P(z_{ik} = k)}{\\sum_{k = 1}^{10} P(X | z_{ik} = k;  \\theta^o, \\pi^o) P(z_{ik} = k)}$$ from which we have $$ \\gamma_{ik} = \\frac{\\pi_k^o P(x_i | z = k; \\theta_k ^o)}{\\sum_{m = 1}^{10} \\pi_m^o P(x_i | z = m; \\theta_m ^ o)} $$ This is the E step of the EM algorithm. Now we have the expectation of the total data log likelihood as $$Q(\\theta, \\pi; \\theta^o, \\pi^o ) = E[log(p(X,Z))] = \\sum_{i = 1}^N \\sum_{k = 1}^{10} \\gamma_{ik} (log(\\pi_k) + \\sum_{j = 1}^d (x_{ij}log(\\theta_{kj}) + (1 - x_{ij})log(1 - \\theta_{kj})))$$ Now our aim in the M step is to find optimal parameters $\\theta$ and $\\pi$ that maximize the Q function $Q(\\theta, \\pi; \\theta^o, \\pi^o )$ subject to constraints $\\sum_{k = 1}^{10} \\pi_k = 1$ The result of the optimisation process is as follows \n",
    "$$\\pi_k^{o + 1} = \\frac{\\sum_{i = 1}^N \\gamma_{ik}}{N}$$ and $$\\theta_k^{o + 1} = \\frac{\\sum_{i = 1}^N \\gamma_{ik} x_{i}}{\\sum_{i = 1}^N \\gamma_{ik}}$$\n",
    "\n",
    "Thus, we have arrived at the end of M step. Now we repeat the process untill the change in parameters in negligible. So overall, the EM algorithm for Mixture of Bernoulli can be summarised as follows :- \n",
    "1. Start with a guess of parameters $\\pi^o$ and $\\theta^o$ where $\\sum_{k = 1}^{10} \\pi^o = 1$. \n",
    "2. E step : Compute $\\gamma_{ik}$ for $i \\in \\{1,2,...,N\\}$ and $k \\in \\{1,2,3...,10\\}$ \n",
    "$$\\gamma_{ik} = \\frac{\\pi_k^o P(x_i | z = k; \\theta_k ^o)}{\\sum_{m = 1}^{10} \\pi_m^o P(x_i | z = m; \\theta_m ^ o)} $$\n",
    "3. M step: Find the next iteration values of parameters $\\pi^{o + 1}$ and $\\theta^{o + 1}$ $$\\pi_k^{o + 1} = \\frac{\\sum_{i = 1}^N \\gamma_{ik}}{N}$$ $$\\theta_k^{o + 1} = \\frac{\\sum_{i = 1}^N \\gamma_{ik} x_{i}}{\\sum_{i = 1}^N \\gamma_{ik}}$$\n",
    "\n",
    "Using this framework, lets try to build a mixture model for the dataset."
   ]
  },
  {
   "cell_type": "code",
   "execution_count": null,
   "id": "a0d290a4",
   "metadata": {},
   "outputs": [],
   "source": [
    "#Implement\n",
    "def train_EM_MOB(x , pi, theta, K = 10):\n",
    "    \n",
    "    '''\n",
    "    :input arguments ---> data set, mixture probabilities, initial cluster locations and number of mixtures\n",
    "    : Implement the EM algorithm for Mixture of Bernoulli random variables\n",
    "    : HINT -> We strongly recommend to avoid two nested for loops. Try vectorising your code. \n",
    "    : A simple example of vectorisation is as follows :- \n",
    "    : Assume you have two vectors a and b. Suppose you want to find out the dot product of a and b. \n",
    "    : There are two ways -> 1. sum = 0 ; for i in range(len(a)): sum += a[i]*b[i] \n",
    "    : 2. sum = a.T @ b\n",
    "    : The second method uses the matrix properties to get the same result as first. This is the main idea. \n",
    "    : Also it is a good idea to try out your own code with a small minibatch of data instead of the full data. \n",
    "    '''\n",
    "    pass\n"
   ]
  },
  {
   "cell_type": "code",
   "execution_count": null,
   "id": "dc1f4b06",
   "metadata": {},
   "outputs": [],
   "source": [
    "# #Implement\n",
    "# def train_EM_MOB(x , pi, theta, K = 10): \n",
    "#     '''\n",
    "#     :input arguments ---> data set, mixture probabilities, initial cluster locations and number of mixtures\n",
    "#     : Implement the EM algorithm for Mixture of Bernoulli random variables\n",
    "#     : HINT -> We strongly recommend to avoid two nested for loops. Try vectorising your code. \n",
    "#     : A simple example of vectorisation is as follows :- \n",
    "#     : Assume you have two vectors a and b. Suppose you want to find out the dot product of a and b. \n",
    "#     : There are two ways -> 1. sum = 0 ; for i in range(len(a)): sum += a[i]*b[i] \n",
    "#     : 2. sum = a.T @ b\n",
    "#     : The second method uses the matrix properties to get the same result as first. This is the main idea. \n",
    "#     : Also it is a good idea to try out your own code with a small minibatch of data instead of the full data. \n",
    "#     '''\n",
    "#     pass\n"
   ]
  },
  {
   "cell_type": "code",
   "execution_count": null,
   "id": "f9398b32",
   "metadata": {},
   "outputs": [],
   "source": [
    "# def train_EM_MOB(x, pi, theta, K=10):\n",
    "#     # Initialize some variables\n",
    "#     N = len(x) # Number of data points\n",
    "#     pi = np.array(pi) # Mixture probabilities\n",
    "#     theta = np.array(theta) # Cluster locations\n",
    "#     max_iter = 100 # Maximum number of iterations\n",
    "#     tol = 1e-6 # Tolerance for convergence\n",
    "    \n",
    "#     # Loop until convergence or maximum number of iterations is reached\n",
    "#     for i in range(max_iter):\n",
    "#         # Compute the probabilities for all data points and mixture components\n",
    "#         p = (x @ theta.T) * pi\n",
    "        \n",
    "#         # Compute the responsibilities for all data points and mixture components\n",
    "#         r = p / p.sum(axis=1, keepdims=True)\n",
    "        \n",
    "#         # Update the estimates of the mixture probabilities and cluster locations\n",
    "#         pi = r.sum(axis=0) / N\n",
    "#         theta = (x.T @ r) / r.sum(axis=0)\n",
    "        \n",
    "#         # Check for convergence\n",
    "#         if np.abs(pi - pi_old).max() < tol and np.abs(theta - theta_old).max() < tol:\n",
    "#             break\n",
    "    \n",
    "#     # Return the estimated mixture probabilities and cluster locations\n",
    "#     return pi, theta\n",
    "\n",
    "#     pass\n"
   ]
  },
  {
   "cell_type": "code",
   "execution_count": null,
   "id": "812df487",
   "metadata": {},
   "outputs": [],
   "source": [
    "# # Define the EM algorithm for a mixture of Bernoulli random variables\n",
    "# def train_EM_MOB(x, pi, theta, K=10):\n",
    "#     # Initialize some variables\n",
    "#     N = len(x) # Number of data points\n",
    "#     pi = np.array(pi) # Mixture probabilities\n",
    "#     theta = np.array(theta) # Cluster locations\n",
    "#     max_iter = 100 # Maximum number of iterations\n",
    "#     tol = 1e-6 # Tolerance for convergence\n",
    "    \n",
    "#     # Loop until convergence or maximum number of iterations is reached\n",
    "#     for i in range(max_iter):\n",
    "#         # Store the previous estimates\n",
    "#         pi_old = pi\n",
    "#         theta_old = theta\n",
    "        \n",
    "#         # Compute the probabilities for all data points and mixture components\n",
    "#         # Reshape the input data and cluster locations to have compatible dimensions\n",
    "#         p = np.dot(x.reshape(N, -1), theta.T) * pi\n",
    "        \n",
    "#         # Compute the responsibilities for all data points and mixture components\n",
    "#         r = p / p.sum(axis=1, keepdims=True)\n",
    "        \n",
    "#         # Update the estimates of the mixture probabilities and cluster locations\n",
    "#         pi = r.sum(axis=0) / N\n",
    "#         theta = (x.T @ r) / r.sum(axis=0)\n",
    "        \n",
    "#         # Check for convergence\n",
    "#         if np.abs(pi - pi_old).max() < tol and np.abs(theta - theta_old).max() < tol:\n",
    "#             break\n",
    "    \n",
    "#     # Return the estimated mixture probabilities and cluster locations\n",
    "#     return pi, theta\n",
    "\n",
    "# # Load the training set\n",
    "# train = train_set\n",
    "\n",
    "# # Set the initial values for the mixture probabilities and cluster locations\n",
    "# pi = [0.25, 0.25, 0.25, 0.25]\n",
    "# theta = [[0.1, 0.2, 0.3, 0.4],\n",
    "#          [0.4, 0.3, 0.2, 0.1],\n",
    "#          [0.2, 0.4, 0.1, 0.3],\n",
    "#          [0.3, 0.1, 0.4, 0.2]]\n",
    "\n",
    "# # First try out with a small dataset\n",
    "# pi_new, theta_new = train_EM_MOB(train[:500] , pi , theta)\n",
    "\n",
    "# # After ensuring it works as expected, run on full dataset\n",
    "# pi_new, theta_new = train_EM_MOB(train , pi, theta)\n"
   ]
  },
  {
   "cell_type": "code",
   "execution_count": null,
   "id": "b80f1b94",
   "metadata": {},
   "outputs": [],
   "source": [
    "def train_EM_MOB(x, pi, theta, K = 10):\n",
    "    # E-step\n",
    "    # Compute the posterior probabilities of the latent variables\n",
    "    # given the observed data and the current estimates of the model parameters\n",
    "    gamma = pi * theta**x * (1 - theta)**(1 - x)\n",
    "    gamma /= np.sum(gamma, axis=1, keepdims=True)\n",
    "    \n",
    "    # M-step\n",
    "    # Update the estimates of the model parameters\n",
    "    # using the expected values of the latent variables\n",
    "    pi = np.mean(gamma, axis=0)\n",
    "    theta = np.sum(gamma * x, axis=0) / np.sum(gamma, axis=0)\n",
    "\n",
    "        # Initialize the mixture probabilities and the cluster locations\n",
    "    pi = np.ones(K) / K\n",
    "    theta = np.random.random((K, x.shape[1]))\n",
    "\n",
    "    # Iteratively apply the EM algorithm\n",
    "    for i in range(max_iter):\n",
    "        pi, theta = train_EM_MOB(x, pi, theta, K)\n",
    "        \n",
    "    # Compute the log likelihood\n",
    "    log_likelihood = np.sum(np.log(np.sum(pi * theta ** x * (1 - theta) ** (1 - x), axis=1)))\n",
    "\n",
    "    return pi, theta\n"
   ]
  },
  {
   "cell_type": "code",
   "execution_count": null,
   "id": "326eb42e",
   "metadata": {},
   "outputs": [],
   "source": [
    "# train = train_set\n",
    "# #Initialise the P(z = k) = $$\\pi_k$$\n",
    "# pi = \n",
    "# #Initialise theta\n",
    "# theta =\n",
    "# #First try out with a small dataset\n",
    "# pi_new, theta_new = train_EM_MOB(train[:500] , pi , theta)\n",
    "# #After ensuring it works as expected, run on full dataset\n",
    "# pi_new, theta_new = train_EM_MOB(train , pi, theta)"
   ]
  },
  {
   "cell_type": "code",
   "execution_count": null,
   "id": "8888bf6e",
   "metadata": {},
   "outputs": [],
   "source": [
    "# train = train_set\n",
    "\n",
    "# #Initialise the P(z = k) = $$\\pi_k$$\n",
    "# pi = np.ones(K) / K\n",
    "\n",
    "# #Initialise theta\n",
    "# theta = np.random.uniform(0, 1, (x.shape[0], K))\n",
    "\n",
    "# #First try out with a small dataset\n",
    "# pi_new, theta_new, log_likelihood = train_EM_MOB(train[:500] , pi , theta)\n",
    "# #pi_new, theta_new = train_EM_MOB(train[:500] , pi , theta)\n",
    "\n",
    "\n",
    "# #After ensuring it works as expected, run on full dataset\n",
    "# pi_new, theta_new, log_likelihood = train_EM_MOB(train , pi, theta)\n",
    "# #pi_new, theta_new = train_EM_MOB(train , pi, theta)"
   ]
  },
  {
   "cell_type": "code",
   "execution_count": null,
   "id": "9a0174f2",
   "metadata": {},
   "outputs": [],
   "source": [
    "train = train_set\n",
    "\n",
    "#Initialise the P(z = k) = $$\\pi_k$$\n",
    "pi = np.ones(K) / K\n",
    "\n",
    "#Initialise theta\n",
    "theta = np.random.uniform(0, 1, (x.shape[0], K))\n",
    "\n",
    "#First try out with a small dataset\n",
    "pi_new, theta_new, log_likelihood = train_EM_MOB(train[:500] , pi , theta)\n",
    "#pi_new, theta_new = train_EM_MOB(train[:500] , pi , theta)\n",
    "\n",
    "\n",
    "#After ensuring it works as expected, run on full dataset\n",
    "pi_new, theta_new, log_likelihood = train_EM_MOB(train , pi, theta)\n",
    "#pi_new, theta_new = train_EM_MOB(train , pi, theta)"
   ]
  },
  {
   "cell_type": "code",
   "execution_count": null,
   "id": "814a4f71",
   "metadata": {},
   "outputs": [],
   "source": [
    "train = train_set\n",
    "#Initialise the P(z = k) = $$\\pi_k$$\n",
    "pi = \n",
    "#Initialise theta\n",
    "theta =\n",
    "#First try out with a small dataset\n",
    "pi_new, theta_new = train_EM_MOB(train[:500] , pi , theta)\n",
    "#After ensuring it works as expected, run on full dataset\n",
    "pi_new, theta_new = train_EM_MOB(train , pi, theta)"
   ]
  },
  {
   "cell_type": "code",
   "execution_count": null,
   "id": "5dd86c25",
   "metadata": {},
   "outputs": [],
   "source": [
    "#Visualise the 10 clusters that you obtained\n",
    "get_cluster_plot(theta_new) #Get the cluster representation for a mixture model with 10 mixtures"
   ]
  },
  {
   "cell_type": "markdown",
   "id": "5f92a8a7",
   "metadata": {},
   "source": []
  },
  {
   "cell_type": "markdown",
   "id": "94cdab16",
   "metadata": {},
   "source": []
  },
  {
   "cell_type": "markdown",
   "id": "286c944e",
   "metadata": {},
   "source": []
  },
  {
   "cell_type": "markdown",
   "id": "cf8ab7b9",
   "metadata": {},
   "source": [
    "## Implement something on your own beyond this point. Contact Professor for ideas about what can be done further. "
   ]
  },
  {
   "cell_type": "code",
   "execution_count": null,
   "id": "cbb774e3",
   "metadata": {},
   "outputs": [],
   "source": []
  }
 ],
 "metadata": {
  "colab": {
   "collapsed_sections": [],
   "name": "Copy of COGS118B WI22 Project1.ipynb",
   "provenance": []
  },
  "kernelspec": {
   "display_name": "Python 3 (ipykernel)",
   "language": "python",
   "name": "python3"
  },
  "language_info": {
   "codemirror_mode": {
    "name": "ipython",
    "version": 3
   },
   "file_extension": ".py",
   "mimetype": "text/x-python",
   "name": "python",
   "nbconvert_exporter": "python",
   "pygments_lexer": "ipython3",
   "version": "3.9.5"
  }
 },
 "nbformat": 4,
 "nbformat_minor": 5
}
